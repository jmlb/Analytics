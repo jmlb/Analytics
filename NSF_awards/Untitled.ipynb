{
 "cells": [
  {
   "cell_type": "code",
   "execution_count": 30,
   "metadata": {
    "collapsed": true
   },
   "outputs": [],
   "source": [
    "import sqlite3\n",
    "import glob"
   ]
  },
  {
   "cell_type": "code",
   "execution_count": 31,
   "metadata": {
    "collapsed": false
   },
   "outputs": [
    {
     "name": "stdout",
     "output_type": "stream",
     "text": [
      "(65142,)\n",
      "{('zeroK NanoTech Corporation',): (65142,)}\n"
     ]
    }
   ],
   "source": [
    "conn = sqlite3.connect('research_grants.db')\n",
    "c = conn.cursor()\n",
    "\n",
    "# Do this instead\n",
    "t = ('New York University',)\n",
    "i = 0\n",
    "#for row in c.execute(\"SELECT * FROM research_awards WHERE awardeeName = ?\", t):\n",
    "unique_awardeeName = c.execute(\"SELECT DISTINCT(awardeeName) AS AwardeeName FROM research_awards ORDER BY awardeeName DESC;\")\n",
    "summary = {}\n",
    "n = 0\n",
    "for item in unique_awardeeName:\n",
    "    cnt = c.execute(\"SELECT COUNT(awardeeName) FROM research_awards;\")\n",
    "    for row in cnt:\n",
    "        print(row)\n",
    "        summary[item] = row\n",
    "\n",
    "print(summary)"
   ]
  },
  {
   "cell_type": "code",
   "execution_count": null,
   "metadata": {
    "collapsed": true
   },
   "outputs": [],
   "source": []
  }
 ],
 "metadata": {
  "anaconda-cloud": {},
  "kernelspec": {
   "display_name": "Python [default]",
   "language": "python",
   "name": "python3"
  },
  "language_info": {
   "codemirror_mode": {
    "name": "ipython",
    "version": 3
   },
   "file_extension": ".py",
   "mimetype": "text/x-python",
   "name": "python",
   "nbconvert_exporter": "python",
   "pygments_lexer": "ipython3",
   "version": "3.5.2"
  }
 },
 "nbformat": 4,
 "nbformat_minor": 1
}
