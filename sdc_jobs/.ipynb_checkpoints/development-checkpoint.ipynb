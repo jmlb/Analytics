{
 "cells": [
  {
   "cell_type": "code",
   "execution_count": 6,
   "metadata": {
    "collapsed": false
   },
   "outputs": [],
   "source": [
    "from indeed import IndeedClient\n",
    "import re\n",
    "client = IndeedClient(publisher =\"9124561496937265\")\n",
    "#Attribution: https://github.com/indeedlabs/indeed-python\n",
    "import sqlite3\n",
    "import glob"
   ]
  },
  {
   "cell_type": "code",
   "execution_count": 12,
   "metadata": {
    "collapsed": false
   },
   "outputs": [
    {
     "name": "stdout",
     "output_type": "stream",
     "text": [
      "{'totalResults': 57, 'paginationPayload': '', 'query': 'self-driving+car', 'results': [{'expired': False, 'indeedApply': False, 'snippet': 'The Reliability team is responsible for validating the most reliable <b>self</b>-<b>driving</b> <b>car</b> hardware. You enjoy developing and testing vehicles....', 'stations': '', 'country': 'US', 'jobkey': 'ac23a7dfebf38996', 'formattedLocation': 'Mountain View, CA', 'sponsored': False, 'url': 'http://www.indeed.com/viewjob?jk=ac23a7dfebf38996&qd=YjFZGgrRChe6qQILtaA8hLHxpH4xrl-f04zydMPtuevPNycp4cmfqvO5SXM50tuunwFsTOrN3Z9OJBOcuLdkMavub77LKoSmJKXydeE3CtI&indpubnum=9124561496937265&atk=1bg0d21rga3p9e0e', 'source': 'Google', 'state': 'CA', 'company': 'Google', 'city': 'Mountain View', 'onmousedown': \"indeed_clk(this,'7935');\", 'date': 'Thu, 06 Apr 2017 11:45:36 GMT', 'formattedRelativeTime': '30+ days ago', 'formattedLocationFull': 'Mountain View, CA', 'jobtitle': 'Reliability Engineering Lab Manager, Waymo', 'language': 'en'}, {'expired': False, 'indeedApply': True, 'snippet': 'Our current product is powering the creation of the most advanced artificial intelligence, cell phones and <b>self</b>-<b>driving</b> <b>car</b> SOCs....', 'stations': '', 'country': 'US', 'jobkey': 'd6485231a9773b2e', 'formattedLocation': 'Campbell, CA', 'sponsored': False, 'url': 'http://www.indeed.com/viewjob?jk=d6485231a9773b2e&qd=YjFZGgrRChe6qQILtaA8hLHxpH4xrl-f04zydMPtuevPNycp4cmfqvO5SXM50tuunwFsTOrN3Z9OJBOcuLdkMavub77LKoSmJKXydeE3CtI&indpubnum=9124561496937265&atk=1bg0d21rga3p9e0e', 'source': 'Indeed', 'state': 'CA', 'company': 'Arteris', 'city': 'Campbell', 'onmousedown': \"indeed_clk(this,'7935');\", 'date': 'Mon, 13 Feb 2017 23:36:02 GMT', 'formattedRelativeTime': '30+ days ago', 'formattedLocationFull': 'Campbell, CA 95008', 'jobtitle': 'Software Architect', 'language': 'en'}, {'expired': False, 'indeedApply': True, 'snippet': 'Defining test and validation plans for autonomous <b>driving</b> system. 3+ years professional work experience in automotive functional safety, ideally in autonomous...', 'stations': '', 'country': 'US', 'jobkey': '43a059fe481e91b6', 'formattedLocation': 'Cambridge, MA', 'sponsored': False, 'url': 'http://www.indeed.com/viewjob?jk=43a059fe481e91b6&qd=YjFZGgrRChe6qQILtaA8hLHxpH4xrl-f04zydMPtuevPNycp4cmfqvO5SXM50tuunwFsTOrN3Z9OJBOcuLdkMavub77LKoSmJKXydeE3CtI&indpubnum=9124561496937265&atk=1bg0d21rga3p9e0e', 'source': 'nuTonomy', 'state': 'MA', 'company': 'nuTonomy', 'city': 'Cambridge', 'onmousedown': \"indeed_clk(this,'7935');\", 'date': 'Sat, 28 Jan 2017 06:52:58 GMT', 'formattedRelativeTime': '30+ days ago', 'formattedLocationFull': 'Cambridge, MA', 'jobtitle': 'Functional Safety Engineer - Automotive', 'language': 'en'}, {'expired': False, 'indeedApply': False, 'snippet': 'You will work with an experienced team coming from MIT, Stanford, Wharton, Google (<b>self</b>\\xad-<b>driving</b> <b>car</b> project), Microsoft, and Intel to build the world \\xadchanging...', 'stations': '', 'country': 'US', 'jobkey': 'eec26535d3ab0f0f', 'formattedLocation': 'San Jose, CA', 'sponsored': False, 'url': 'http://www.indeed.com/viewjob?jk=eec26535d3ab0f0f&qd=YjFZGgrRChe6qQILtaA8hLHxpH4xrl-f04zydMPtuevPNycp4cmfqvO5SXM50tuunwFsTOrN3Z9OJBOcuLdkMavub77LKoSmJKXydeE3CtI&indpubnum=9124561496937265&atk=1bg0d21rga3p9e0e', 'source': 'Continental', 'state': 'CA', 'company': 'Continental', 'city': 'San Jose', 'onmousedown': \"indeed_clk(this,'7935');\", 'date': 'Wed, 26 Apr 2017 03:52:08 GMT', 'formattedRelativeTime': '17 days ago', 'formattedLocationFull': 'San Jose, CA', 'jobtitle': 'Senior Software Engineer - Backend', 'language': 'en'}, {'expired': False, 'indeedApply': True, 'snippet': 'We are building out multiple interesting products one of which is a <b>self</b>-<b>driving</b> <b>car</b> platform to rival google....', 'stations': '', 'country': 'US', 'jobkey': '06ac8eb70143ad62', 'formattedLocation': 'Chicago, IL', 'sponsored': False, 'url': 'http://www.indeed.com/viewjob?jk=06ac8eb70143ad62&qd=YjFZGgrRChe6qQILtaA8hLHxpH4xrl-f04zydMPtuevPNycp4cmfqvO5SXM50tuunwFsTOrN3Z9OJBOcuLdkMavub77LKoSmJKXydeE3CtI&indpubnum=9124561496937265&atk=1bg0d21rga3p9e0e', 'source': 'Jobspring Partners', 'state': 'IL', 'company': 'Jobspring Partners', 'city': 'Chicago', 'onmousedown': \"indeed_clk(this,'7935');\", 'date': 'Wed, 08 Mar 2017 21:17:45 GMT', 'formattedRelativeTime': '30+ days ago', 'formattedLocationFull': 'Chicago, IL 60603', 'jobtitle': 'OOP Expert', 'language': 'en'}, {'expired': False, 'indeedApply': True, 'snippet': 'Are you excited about shaping the <b>self</b>-<b>driving</b> <b>car</b> revolution and beyond? You will design and implement robust and efficient frameworks, infrastructure and...', 'stations': '', 'country': 'US', 'jobkey': 'dce8abc4fcc8920a', 'formattedLocation': 'Mountain View, CA', 'sponsored': False, 'url': 'http://www.indeed.com/viewjob?jk=dce8abc4fcc8920a&qd=YjFZGgrRChe6qQILtaA8hLHxpH4xrl-f04zydMPtuevPNycp4cmfqvO5SXM50tuunwFsTOrN3Z9OJBOcuLdkMavub77LKoSmJKXydeE3CtI&indpubnum=9124561496937265&atk=1bg0d21rga3p9e0e', 'source': 'Drive.ai', 'state': 'CA', 'company': 'Drive.ai', 'city': 'Mountain View', 'onmousedown': \"indeed_clk(this,'7935');\", 'date': 'Fri, 28 Apr 2017 20:03:11 GMT', 'formattedRelativeTime': '14 days ago', 'formattedLocationFull': 'Mountain View, CA', 'jobtitle': 'Senior Software Engineer-Tools and Infrastructure', 'language': 'en'}, {'expired': False, 'indeedApply': False, 'snippet': 'NVIDIA is hiring a Deep Learning Software Manager for its <b>Self</b> <b>Driving</b> <b>Car</b> Deep Learning team. Interaction with various internal product and research teams...', 'stations': '', 'country': 'US', 'jobkey': '32e29fd95f9cfd42', 'formattedLocation': 'Santa Clara, CA', 'sponsored': False, 'url': 'http://www.indeed.com/viewjob?jk=32e29fd95f9cfd42&qd=YjFZGgrRChe6qQILtaA8hLHxpH4xrl-f04zydMPtuevPNycp4cmfqvO5SXM50tuunwFsTOrN3Z9OJBOcuLdkMavub77LKoSmJKXydeE3CtI&indpubnum=9124561496937265&atk=1bg0d21rga3p9e0e', 'source': 'NVIDIA', 'state': 'CA', 'company': 'NVIDIA', 'city': 'Santa Clara', 'onmousedown': \"indeed_clk(this,'7935');\", 'date': 'Wed, 22 Mar 2017 04:33:15 GMT', 'formattedRelativeTime': '30+ days ago', 'formattedLocationFull': 'Santa Clara, CA', 'jobtitle': 'Deep Learning Software Engineering Manager', 'language': 'en'}, {'expired': False, 'indeedApply': False, 'snippet': 'Learning to autonomous <b>driving</b>. We have a rich history in <b>self</b>. Will be a commercially available L3 autonomous <b>car</b>....', 'stations': '', 'country': 'US', 'jobkey': '100d524369c71fe2', 'formattedLocation': 'Belmont, CA', 'sponsored': False, 'url': 'http://www.indeed.com/viewjob?jk=100d524369c71fe2&qd=YjFZGgrRChe6qQILtaA8hLHxpH4xrl-f04zydMPtuevPNycp4cmfqvO5SXM50tuunwFsTOrN3Z9OJBOcuLdkMavub77LKoSmJKXydeE3CtI&indpubnum=9124561496937265&atk=1bg0d21rga3p9e0e', 'source': 'Volkswagen Group of America', 'state': 'CA', 'company': 'Volkswagen Group of America, Inc.', 'city': 'Belmont', 'onmousedown': \"indeed_clk(this,'7935');\", 'date': 'Wed, 15 Feb 2017 04:59:22 GMT', 'formattedRelativeTime': '30+ days ago', 'formattedLocationFull': 'Belmont, CA 94002', 'jobtitle': 'Sr. Technical Product Engineer - Autonomous Driving', 'language': 'en'}, {'expired': False, 'indeedApply': False, 'snippet': 'Learning to autonomous <b>driving</b>. Technical Product Engineer - Autonomous <b>Driving</b>. We have a rich history in <b>self</b>....', 'stations': '', 'country': 'US', 'jobkey': '82a9e0df6b10800c', 'formattedLocation': 'Belmont, CA', 'sponsored': False, 'url': 'http://www.indeed.com/viewjob?jk=82a9e0df6b10800c&qd=YjFZGgrRChe6qQILtaA8hLHxpH4xrl-f04zydMPtuevPNycp4cmfqvO5SXM50tuunwFsTOrN3Z9OJBOcuLdkMavub77LKoSmJKXydeE3CtI&indpubnum=9124561496937265&atk=1bg0d21rga3p9e0e', 'source': 'Audi Canada', 'state': 'CA', 'company': 'Audi Canada', 'city': 'Belmont', 'onmousedown': \"indeed_clk(this,'7935');\", 'date': 'Wed, 15 Feb 2017 02:19:03 GMT', 'formattedRelativeTime': '30+ days ago', 'formattedLocationFull': 'Belmont, CA', 'jobtitle': 'Sr. Technical Product Engineer - Autonomous Driving', 'language': 'en'}, {'expired': False, 'indeedApply': False, 'snippet': 'As a Technical Program Manager supporting <b>Self</b> <b>Driving</b> System Hardware on Waymo’s <b>Self</b> <b>Driving</b> <b>Car</b> Team, you will collaborate with internal customers and...', 'stations': '', 'country': 'US', 'jobkey': 'fa4ae2696ba39faa', 'formattedLocation': 'Mountain View, CA', 'sponsored': False, 'url': 'http://www.indeed.com/viewjob?jk=fa4ae2696ba39faa&qd=YjFZGgrRChe6qQILtaA8hLHxpH4xrl-f04zydMPtuevPNycp4cmfqvO5SXM50tuunwFsTOrN3Z9OJBOcuLdkMavub77LKoSmJKXydeE3CtI&indpubnum=9124561496937265&atk=1bg0d21rga3p9e0e', 'source': 'Google', 'state': 'CA', 'company': 'Google', 'city': 'Mountain View', 'onmousedown': \"indeed_clk(this,'7935');\", 'date': 'Thu, 16 Feb 2017 15:40:29 GMT', 'formattedRelativeTime': '30+ days ago', 'formattedLocationFull': 'Mountain View, CA', 'jobtitle': 'Technical Program Manager, Waymo', 'language': 'en'}], 'start': 46, 'pageNumber': 5, 'version': 2, 'dupefilter': True, 'location': '', 'highlight': True, 'end': 55}\n"
     ]
    }
   ],
   "source": [
    "from indeed import IndeedClient\n",
    "\n",
    "client = IndeedClient(\"9124561496937265\")\n",
    "\n",
    "params = {\n",
    "    'q' : \"self-driving+car\",\n",
    "    'start': 57*5,\n",
    "   # 'l' : \"austin\",\n",
    "    'userip' : \"1.2.3.4\",\n",
    "    'useragent' : \"Mozilla/5.0 (Macintosh; Intel Mac OS X 10_8_2)\"\n",
    "}\n",
    "\n",
    "search_response = client.search(**params)\n",
    "print(search_response)"
   ]
  },
  {
   "cell_type": "code",
   "execution_count": 105,
   "metadata": {
    "collapsed": false
   },
   "outputs": [
    {
     "name": "stdout",
     "output_type": "stream",
     "text": [
      "Deep Learning Performance Architect\n",
      "\n",
      "Wed, 26 Apr 2017 00:07:31 GMT\n",
      "\n",
      "NVIDIA\n",
      "\n",
      "US (OR)\n",
      "\n",
      "long: -122.8022 | lat: 45.486263\n"
     ]
    }
   ],
   "source": [
    "# Example of a single examples\n",
    "this_job = search_response['results'][0]\n",
    "#print(this_job)\n",
    "#get jobkey to get more details\n",
    "this_jobkey = this_job['jobkey']\n",
    "#print(this_jobkey)\n",
    "\n",
    "#Make a query on this jobkey\n",
    "this_jobDetails = client.jobs(jobkeys = (this_jobkey, ))\n",
    "#############################\n",
    "######  JOB DETAILS  ########\n",
    "#############################\n",
    "job_title = this_jobDetails['results'][0][\"jobtitle\"]\n",
    "job_postdate = this_jobDetails['results'][0][\"date\"]\n",
    "job_employer = this_jobDetails['results'][0][\"company\"]\n",
    "job_country = this_jobDetails['results'][0][\"country\"]\n",
    "job_state = this_jobDetails['results'][0][\"state\"]\n",
    "job_gps = {'long': this_jobDetails['results'][0][\"longitude\"], 'lat': this_jobDetails['results'][0][\"latitude\"] }\n",
    "print(job_title+\"\\n\")\n",
    "print(job_postdate+\"\\n\")\n",
    "print(job_employer+\"\\n\")\n",
    "print(job_country+\" (\"+job_state+\")\\n\")\n",
    "print(\"long: {} | lat: {}\".format(job_gps['long'], job_gps['lat']))"
   ]
  },
  {
   "cell_type": "code",
   "execution_count": 72,
   "metadata": {
    "collapsed": false
   },
   "outputs": [],
   "source": [
    "from bs4 import BeautifulSoup # For HTML parsing\n",
    "import urllib # Website connections\n",
    "import re # Regular expressions\n",
    "from time import sleep # To prevent overwhelming the server between connections\n",
    "from collections import Counter # Keep track of our term counts\n",
    "from nltk.corpus import stopwords # Filter out stopwords, such as 'the', 'or', 'and'\n",
    "import pandas as pd # For converting results to a dataframe and bar chart plots\n",
    "%matplotlib inline"
   ]
  },
  {
   "cell_type": "code",
   "execution_count": null,
   "metadata": {
    "collapsed": true
   },
   "outputs": [],
   "source": [
    "#website parsing function"
   ]
  },
  {
   "cell_type": "code",
   "execution_count": 171,
   "metadata": {
    "collapsed": false
   },
   "outputs": [
    {
     "name": "stdout",
     "output_type": "stream",
     "text": [
      "found\n",
      "bog\n",
      "['We', 'are', 'now', 'looking', 'for', 'a', 'Deep', 'Learning', 'Performance', 'Architect', 'NVIDIA', 'is', 'seeking', 'extraordinary', 'architects', 'to', 'develop', 'processor', 'and', 'system', 'architectures', 'that', 'accelerate', 'machine', 'learning', 'data', 'analytics', 'and', 'high', 'performance', 'computing', 'applications', 'This', 'position', 'offers', 'the', 'chance', 'to', 'create', 'a', 'meaningful', 'impact', 'in', 'a', 'dynamic', 'technology', 'focused', 'company', 'What', 'you', 'will', 'be', 'doing', 'As', 'a', 'member', 'of', 'our', 'deep', 'learning', 'architecture', 'team', 'you', 'will', 'craft', 'system', 'and', 'processor', 'architectures', 'to', 'extend', 'the', 'state', 'of', 'the', 'art', 'in', 'deep', 'learning', 'efficiency', 'and', 'performance', 'Prototype', 'key', 'deep', 'learning', 'and', 'data', 'analytics', 'algorithms', 'and', 'applications', 'Analyze', 'trade', 'offs', 'in', 'performance', 'cost', 'and', 'power', 'developing', 'analytical', 'models', 'simulators', 'and', 'test', 'suites', 'Understand', 'and', 'analyze', 'the', 'interplay', 'of', 'hardware', 'and', 'software', 'architectures', 'on', 'future', 'algorithms', 'programming', 'models', 'and', 'applications', 'Collaborate', 'across', 'the', 'company', 'to', 'guide', 'the', 'direction', 'of', 'machine', 'learning', 'working', 'with', 'software', 'research', 'and', 'product', 'teams', 'What', 'we', 'need', 'to', 'see', 'You', 'have', 'a', 'MS', 'or', 'PhD', 'in', 'relevant', 'discipline', 'CS', 'EE', 'CE', 'with', '3+', 'years', 'of', 'relevant', 'work', 'or', 'research', 'experience', 'Strong', 'foundation', 'in', 'machine', 'learning', 'and', 'deep', 'learning', 'fundamentals', 'with', 'an', 'expertise', 'in', 'computer', 'architecture', 'Demonstrated', 'fluency', 'in', 'programming', 'languages', 'such', 'as', 'Python', 'C', 'C++', 'Experience', 'and', 'familiarity', 'with', 'GPU', 'computing', 'and', 'parallel', 'programming', 'models', 'Experience', 'with', 'analytical', 'performance', 'modeling', 'profiling', 'and', 'analysis', 'Intelligent', 'machines', 'powered', 'by', 'AI', 'computers', 'that', 'can', 'learn', 'reason', 'and', 'interact', 'with', 'people', 'are', 'no', 'longer', 'science', 'fiction', 'Today', 'a', 'self', 'driving', 'car', 'powered', 'by', 'artificial', 'intelligence', 'can', 'meander', 'through', 'a', 'country', 'road', 'at', 'night', 'and', 'find', 'its', 'way', 'An', 'AI', 'powered', 'robot', 'can', 'learn', 'motor', 'skills', 'through', 'trial', 'and', 'error', 'This', 'is', 'truly', 'an', 'extraordinary', 'time', 'The', 'era', 'of', 'AI', 'has', 'begun', 'Image', 'recognition', 'and', 'speech', 'recognition', 'GPU', 'deep', 'learning', 'has', 'provided', 'the', 'foundation', 'for', 'machines', 'to', 'learn', 'perceive', 'reason', 'and', 'solve', 'problems', 'The', 'GPU', 'started', 'out', 'as', 'the', 'engine', 'for', 'simulating', 'human', 'imagination', 'conjuring', 'up', 'the', 'amazing', 'virtual', 'worlds', 'of', 'video', 'games', 'and', 'Hollywood', 'films', 'Now', 'Nvidia', 's', 'GPU', 'runs', 'deep', 'learning', 'algorithms', 'simulating', 'human', 'intelligence', 'and', 'acts', 'as', 'the', 'brain', 'of', 'computers', 'robots', 'and', 'self', 'driving', 'cars', 'that', 'can', 'perceive', 'and', 'understand', 'the', 'world', 'Just', 'as', 'human', 'imagination', 'and', 'intelligence', 'are', 'linked', 'computer', 'graphics', 'and', 'artificial', 'intelligence', 'come', 'together', 'in', 'our', 'architecture', 'Two', 'modes', 'of', 'the', 'human', 'brain', 'two', 'modes', 'of', 'the', 'GPU', 'This', 'may', 'explain', 'why', 'Nvidia', 'GPUs', 'are', 'used', 'broadly', 'for', 'deep', 'learning', 'and', 'Nvidia', 'is', 'increasingly', 'known', 'as', 'the', 'AI', 'computing', 'company', 'Come', 'join', 'our', 'DL', 'Architecture', 'team', 'where', 'you', 'can', 'help', 'build', 'the', 'real', 'time', 'cost', 'effective', 'computing', 'platform', 'driving', 'our', 'success', 'in', 'this', 'exciting', 'and', 'quickly', 'growing', 'field', 'deeplearning', 'We', 'are', 'an', 'AA', 'EEO', 'Veterans', 'Disabled', 'employer']\n"
     ]
    }
   ],
   "source": [
    "url = 'http://www.indeed.com/viewjob?jk='+str(this_jobkey)\n",
    "#site = urllib.request.urlopen(url).read() # Connect to the job posting\n",
    "#soup_obj = BeautifulSoup(site, \"lxml\")\n",
    "try:\n",
    "    site = urllib.request.urlopen(url).read() # Connect to the job posting\n",
    "    soup_obj = BeautifulSoup(site, \"lxml\")\n",
    "except:\n",
    "    print('page not found')\n",
    "    #return   # Need this in case the website isn't there anymore or some other weird connection problem \n",
    "\n",
    "spans = soup_obj.find_all('span', attrs={'id':\"job_summary\"})\n",
    "for span in spans:\n",
    "    print('found')\n",
    "\n",
    "degrees = ['PhD', 'MS', 'Bachelor', 'PHD', 'BSc']\n",
    "eduFields = ['CS', 'CE', 'EE', 'Physics']\n",
    "\n",
    "domains = {'machine': ['learning'], 'Deep': ['Learning'], 'computer': ['architecture'], 'Algorithms':[], \n",
    "                'GPU': ['computing'], 'parallel': ['programming'], 'Computer': ['Vision']}\n",
    "\n",
    "progSkills = ['C++', 'C', 'C#', 'Python', 'python', 'OpenCV', 'openCV']\n",
    "\n",
    "#convert soup object to text\n",
    "text = spans[0].get_text()\n",
    "\n",
    "\n",
    "#Cleaning text\n",
    "try:\n",
    "    text = text.decode('unicode_escape').encode('ascii', 'ignore') \n",
    "except:                                 \n",
    "    print('bog')\n",
    "\n",
    "#Remove special characters\n",
    "special_chars = \"!@#$%^&*()[]{};:,./<>?\\|`~=_\"\n",
    "for special_char in special_chars:\n",
    "    text = text.replace(special_char, \" \")\n",
    "#remove newline\n",
    "text = \" \".join(text.split())\n",
    "\n",
    "text = re.sub(\"[^a-zA-Z.+3]\",\" \", text)  # Now get rid of any terms that aren't words (include 3 for d3.js)\n",
    "                                                # Also include + for C++\n",
    "text_split = text.split()\n",
    "print(text_split)"
   ]
  },
  {
   "cell_type": "code",
   "execution_count": 175,
   "metadata": {
    "collapsed": false
   },
   "outputs": [
    {
     "name": "stdout",
     "output_type": "stream",
     "text": [
      "{'progSkills': ['Python', 'C', 'C++'], 'degrees': ['MS', 'PhD'], 'eduFields': ['CS', 'EE', 'CE'], 'domains': ['machine learning', 'computer architecture', 'parallel programming']}\n"
     ]
    }
   ],
   "source": [
    "job_fields = ['degrees', 'eduFields', 'domains', 'progSkills']\n",
    "\n",
    "this_job = {}\n",
    "#Initialize\n",
    "for i in job_fields:\n",
    "    this_job[i] = []\n",
    "\n",
    "#better to scroll thru text once\n",
    "for idx, word in enumerate(text_split):\n",
    "    w_lower = word.lower()\n",
    "    if word in degrees:\n",
    "        if len(this_job['degrees'])==0:\n",
    "            this_job['degrees'] = [word]\n",
    "        else:\n",
    "            this_job['degrees'].append(word)\n",
    "\n",
    "    if word in eduFields:\n",
    "        if len(this_job['eduFields'])==0:\n",
    "            this_job['eduFields'] = [word]\n",
    "        else:\n",
    "            this_job['eduFields'].append(word)\n",
    "    \n",
    "    if w_lower in domains:\n",
    "        next_word = text_split[idx+1]\n",
    "        if next_word.lower() in domains[w_lower]:\n",
    "            # word+next_word combination \n",
    "            if len(this_job['domains'])==0:\n",
    "                this_job['domains'] = [w_lower+\" \"+next_word.lower()]\n",
    "            else:\n",
    "                domain = w_lower+\" \"+next_word.lower()\n",
    "                if domain not in this_job['domains']:\n",
    "                    this_job['domains'].append(domain)\n",
    "    \n",
    "    if word in progSkills:\n",
    "        if len(this_job['progSkills'])==0:\n",
    "            this_job['progSkills'] = [word]\n",
    "        else:\n",
    "            this_job['progSkills'].append(word) \n",
    "            \n",
    "\n",
    "print(this_job)\n",
    "\n",
    "\n",
    "#convert soup object to text\n",
    "#text_split = text.lower().split()\n",
    "#print(text_split)"
   ]
  },
  {
   "cell_type": "code",
   "execution_count": null,
   "metadata": {
    "collapsed": true
   },
   "outputs": [],
   "source": []
  }
 ],
 "metadata": {
  "anaconda-cloud": {},
  "kernelspec": {
   "display_name": "Python 3",
   "language": "python",
   "name": "python3"
  },
  "language_info": {
   "codemirror_mode": {
    "name": "ipython",
    "version": 3
   },
   "file_extension": ".py",
   "mimetype": "text/x-python",
   "name": "python",
   "nbconvert_exporter": "python",
   "pygments_lexer": "ipython3",
   "version": "3.5.2"
  }
 },
 "nbformat": 4,
 "nbformat_minor": 2
}
